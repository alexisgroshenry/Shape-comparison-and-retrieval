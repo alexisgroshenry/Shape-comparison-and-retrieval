{
 "cells": [
  {
   "cell_type": "code",
   "execution_count": 24,
   "metadata": {},
   "outputs": [],
   "source": [
    "from sklearn.decomposition import PCA\n",
    "import numpy as np\n",
    "from numpy.linalg import norm\n",
    "import pandas as pd\n",
    "import seaborn as sns\n",
    "import matplotlib.pyplot as plt\n",
    "from matplotlib.pyplot import figure\n",
    "import matplotlib\n",
    "import PyQt5"
   ]
  },
  {
   "cell_type": "markdown",
   "metadata": {},
   "source": [
    "## PCA of first dataset"
   ]
  },
  {
   "cell_type": "code",
   "execution_count": 107,
   "metadata": {},
   "outputs": [],
   "source": [
    "with open(\"files_list.txt\") as f :\n",
    "    file_data = f.readlines()\n",
    "filenames=[]\n",
    "for k in enumerate(file_data) :\n",
    "    filenames.append(k[1][7:].split(\"/\")[0])"
   ]
  },
  {
   "cell_type": "code",
   "execution_count": 108,
   "metadata": {},
   "outputs": [],
   "source": [
    "nev=20\n",
    "with open(\"eigenvalues_list_\"+str(nev)+\".txt\") as f :\n",
    "    file_data = f.readlines()\n",
    "eigenvalues_list = np.zeros((len(file_data),nev))\n",
    "for idx,k in enumerate(file_data) :\n",
    "    k = k.split(\"\\t\")[:-1]\n",
    "    for nb,i in enumerate(k) :\n",
    "        eigenvalues_list[idx,nb] = float(i)"
   ]
  },
  {
   "cell_type": "code",
   "execution_count": 111,
   "metadata": {
    "scrolled": false
   },
   "outputs": [
    {
     "name": "stderr",
     "output_type": "stream",
     "text": [
      "*c* argument looks like a single numeric RGB or RGBA sequence, which should be avoided as value-mapping will have precedence in case its length matches with *x* & *y*.  Please use the *color* keyword-argument or provide a 2-D array with a single row if you intend to specify the same RGB or RGBA value for all points.\n",
      "*c* argument looks like a single numeric RGB or RGBA sequence, which should be avoided as value-mapping will have precedence in case its length matches with *x* & *y*.  Please use the *color* keyword-argument or provide a 2-D array with a single row if you intend to specify the same RGB or RGBA value for all points.\n",
      "*c* argument looks like a single numeric RGB or RGBA sequence, which should be avoided as value-mapping will have precedence in case its length matches with *x* & *y*.  Please use the *color* keyword-argument or provide a 2-D array with a single row if you intend to specify the same RGB or RGBA value for all points.\n",
      "*c* argument looks like a single numeric RGB or RGBA sequence, which should be avoided as value-mapping will have precedence in case its length matches with *x* & *y*.  Please use the *color* keyword-argument or provide a 2-D array with a single row if you intend to specify the same RGB or RGBA value for all points.\n",
      "*c* argument looks like a single numeric RGB or RGBA sequence, which should be avoided as value-mapping will have precedence in case its length matches with *x* & *y*.  Please use the *color* keyword-argument or provide a 2-D array with a single row if you intend to specify the same RGB or RGBA value for all points.\n",
      "*c* argument looks like a single numeric RGB or RGBA sequence, which should be avoided as value-mapping will have precedence in case its length matches with *x* & *y*.  Please use the *color* keyword-argument or provide a 2-D array with a single row if you intend to specify the same RGB or RGBA value for all points.\n",
      "*c* argument looks like a single numeric RGB or RGBA sequence, which should be avoided as value-mapping will have precedence in case its length matches with *x* & *y*.  Please use the *color* keyword-argument or provide a 2-D array with a single row if you intend to specify the same RGB or RGBA value for all points.\n",
      "*c* argument looks like a single numeric RGB or RGBA sequence, which should be avoided as value-mapping will have precedence in case its length matches with *x* & *y*.  Please use the *color* keyword-argument or provide a 2-D array with a single row if you intend to specify the same RGB or RGBA value for all points.\n",
      "*c* argument looks like a single numeric RGB or RGBA sequence, which should be avoided as value-mapping will have precedence in case its length matches with *x* & *y*.  Please use the *color* keyword-argument or provide a 2-D array with a single row if you intend to specify the same RGB or RGBA value for all points.\n"
     ]
    }
   ],
   "source": [
    "%matplotlib qt\n",
    "\n",
    "from sklearn.decomposition import PCA\n",
    "pca = PCA(n_components=2)\n",
    "principalComponents =pca.fit_transform(eigenvalues_list)\n",
    "var = pca.explained_variance_ratio_\n",
    "\n",
    "principalDf = pd.DataFrame(data = principalComponents\n",
    "             , columns = ['principal component 1', 'principal component 2'])\n",
    "\n",
    "labels=[]\n",
    "for i in range(eigenvalues_list.shape[0]):\n",
    "    labels.append(filenames[i])\n",
    "principalDf[\"label\"]=labels\n",
    "\n",
    "fig = plt.figure(figsize = (8,8))\n",
    "ax = fig.add_subplot(1,1,1) \n",
    "ax.set_xlabel('Principal Component 1', fontsize = 15)\n",
    "ax.set_ylabel('Principal Component 2', fontsize = 15)\n",
    "ax.set_title('2 Component PCA', fontsize = 20)\n",
    "\n",
    "labels = list(set(filenames))\n",
    "\n",
    "colors = matplotlib.cm.rainbow(np.linspace(0,1,len(labels)))\n",
    "\n",
    "for label, color in zip(labels,colors):\n",
    "    indicesToKeep = principalDf['label'] == label\n",
    "    ax.scatter(principalDf.loc[indicesToKeep, 'principal component 1']\n",
    "               , principalDf.loc[indicesToKeep, 'principal component 2']\n",
    "               , c = color\n",
    "               , s = 50)\n",
    "ax.legend(labels)\n",
    "ax.grid()\n",
    "plt.show()"
   ]
  },
  {
   "cell_type": "code",
   "execution_count": 115,
   "metadata": {},
   "outputs": [],
   "source": [
    "train = np.zeros((7*9,nev))\n",
    "train_labels = []\n",
    "test = np.zeros((3*9,nev))\n",
    "test_labels = []\n",
    "\n",
    "i_train=0\n",
    "i_test=0\n",
    "for i in range(len(filenames)):\n",
    "    if i%10<7:\n",
    "        train[i_train]=eigenvalues_list[i]\n",
    "        train_labels.append(filenames[i])\n",
    "        i_train+=1\n",
    "    else:\n",
    "        test[i_test]=eigenvalues_list[i]\n",
    "        test_labels.append(filenames[i])\n",
    "        i_test+=1"
   ]
  },
  {
   "cell_type": "code",
   "execution_count": 116,
   "metadata": {},
   "outputs": [],
   "source": [
    "labels=list(set(filenames))"
   ]
  },
  {
   "cell_type": "code",
   "execution_count": 118,
   "metadata": {},
   "outputs": [],
   "source": [
    "def kNN(k, X, x):\n",
    "    '''\n",
    "    kNN classification of x\n",
    "    -----------------------\n",
    "        Input: \n",
    "        k: number of nearest neighbors\n",
    "        X: training data           \n",
    "        y: class labels of training data\n",
    "        x: test instance\n",
    "\n",
    "        return the label to be associated with x\n",
    "\n",
    "        Hint: you may use the function 'norm' \n",
    "    '''\n",
    "    m,n = X.shape\n",
    "    \n",
    "    #liste des distances de x à tous les autres points du dataset\n",
    "    distances = norm(X-x,axis=1)\n",
    "    #liste des indices triés par distance à x\n",
    "    idx=distances.argsort()\n",
    "    \n",
    "    #on fait le compte des labels les plus présents\n",
    "    c=np.zeros(max(idx)+1)\n",
    "    for i in range(k):\n",
    "        c[labels.index(train_labels[idx[i]])] += 1\n",
    "        \n",
    "    #renvoie le résultat du vote majoritaire\n",
    "    label = np.argmax(c)\n",
    "    \n",
    "    return label"
   ]
  },
  {
   "cell_type": "code",
   "execution_count": 126,
   "metadata": {},
   "outputs": [],
   "source": [
    "%matplotlib inline"
   ]
  },
  {
   "cell_type": "code",
   "execution_count": 127,
   "metadata": {
    "scrolled": false
   },
   "outputs": [
    {
     "data": {
      "image/png": "[encoded data removed]",
      "text/plain": [
       "<Figure size 432x288 with 2 Axes>"
      ]
     },
     "metadata": {
      "needs_background": "light"
     },
     "output_type": "display_data"
    }
   ],
   "source": [
    "k=1\n",
    "query=np.zeros((9,9))\n",
    "for i in range(len(test)):\n",
    "    idx=kNN(k,train,test[i])\n",
    "    query[labels.index(test_labels[i]),idx]+=1\n",
    "ax = sns.heatmap(query, linewidth=0.5, xticklabels = labels, yticklabels = labels)\n",
    "plt.ylabel('label',size=15)\n",
    "plt.xlabel('predicted label',size=15)\n",
    "plt.title(\"k = \"+str(k),size=20)\n",
    "plt.show()"
   ]
  },
  {
   "cell_type": "markdown",
   "metadata": {},
   "source": [
    "## PCA of Princeton dataset"
   ]
  },
  {
   "cell_type": "code",
   "execution_count": 105,
   "metadata": {},
   "outputs": [],
   "source": [
    "labels = [\"Human\",\"Cup\",\"Glasses\",\"Airplane\",\"Ant\",\"Chair\",\"Octopus\",\"Table\",\"Teddy\",\"Hand\",\"Plier\",\"Fish\",\"Bird\",\"Spring\",\"Armadillo\",\"Bust\",\"Mech\",\"Bearing\",\"Vase\",\"Fourleg\"]\n",
    "nev=20\n",
    "with open(\"eigenvalues_list_princeton_\"+str(nev)+\".txt\") as f :\n",
    "    file_data = f.readlines()\n",
    "train = np.zeros((len(file_data)-5*20,nev))\n",
    "train_labels = [labels[i//15] for i in range(len(train))]\n",
    "test = np.zeros((5*20,nev))\n",
    "test_labels = [labels[i//5] for i in range(len(test))]\n",
    "\n",
    "i_train=0\n",
    "i_test=0\n",
    "for idx,k in enumerate(file_data) :\n",
    "    k = k.split(\"\\t\")[:-1]\n",
    "    if idx%20<15:\n",
    "        for nb,i in enumerate(k) :\n",
    "            train[i_train,nb] = float(i)\n",
    "        i_train+=1\n",
    "    else:\n",
    "        for nb,i in enumerate(k) :\n",
    "            test[i_test,nb] = float(i)\n",
    "        i_test+=1"
   ]
  },
  {
   "cell_type": "code",
   "execution_count": 106,
   "metadata": {},
   "outputs": [
    {
     "name": "stderr",
     "output_type": "stream",
     "text": [
      "*c* argument looks like a single numeric RGB or RGBA sequence, which should be avoided as value-mapping will have precedence in case its length matches with *x* & *y*.  Please use the *color* keyword-argument or provide a 2-D array with a single row if you intend to specify the same RGB or RGBA value for all points.\n",
      "*c* argument looks like a single numeric RGB or RGBA sequence, which should be avoided as value-mapping will have precedence in case its length matches with *x* & *y*.  Please use the *color* keyword-argument or provide a 2-D array with a single row if you intend to specify the same RGB or RGBA value for all points.\n",
      "*c* argument looks like a single numeric RGB or RGBA sequence, which should be avoided as value-mapping will have precedence in case its length matches with *x* & *y*.  Please use the *color* keyword-argument or provide a 2-D array with a single row if you intend to specify the same RGB or RGBA value for all points.\n",
      "*c* argument looks like a single numeric RGB or RGBA sequence, which should be avoided as value-mapping will have precedence in case its length matches with *x* & *y*.  Please use the *color* keyword-argument or provide a 2-D array with a single row if you intend to specify the same RGB or RGBA value for all points.\n",
      "*c* argument looks like a single numeric RGB or RGBA sequence, which should be avoided as value-mapping will have precedence in case its length matches with *x* & *y*.  Please use the *color* keyword-argument or provide a 2-D array with a single row if you intend to specify the same RGB or RGBA value for all points.\n",
      "*c* argument looks like a single numeric RGB or RGBA sequence, which should be avoided as value-mapping will have precedence in case its length matches with *x* & *y*.  Please use the *color* keyword-argument or provide a 2-D array with a single row if you intend to specify the same RGB or RGBA value for all points.\n",
      "*c* argument looks like a single numeric RGB or RGBA sequence, which should be avoided as value-mapping will have precedence in case its length matches with *x* & *y*.  Please use the *color* keyword-argument or provide a 2-D array with a single row if you intend to specify the same RGB or RGBA value for all points.\n",
      "*c* argument looks like a single numeric RGB or RGBA sequence, which should be avoided as value-mapping will have precedence in case its length matches with *x* & *y*.  Please use the *color* keyword-argument or provide a 2-D array with a single row if you intend to specify the same RGB or RGBA value for all points.\n",
      "*c* argument looks like a single numeric RGB or RGBA sequence, which should be avoided as value-mapping will have precedence in case its length matches with *x* & *y*.  Please use the *color* keyword-argument or provide a 2-D array with a single row if you intend to specify the same RGB or RGBA value for all points.\n",
      "*c* argument looks like a single numeric RGB or RGBA sequence, which should be avoided as value-mapping will have precedence in case its length matches with *x* & *y*.  Please use the *color* keyword-argument or provide a 2-D array with a single row if you intend to specify the same RGB or RGBA value for all points.\n",
      "*c* argument looks like a single numeric RGB or RGBA sequence, which should be avoided as value-mapping will have precedence in case its length matches with *x* & *y*.  Please use the *color* keyword-argument or provide a 2-D array with a single row if you intend to specify the same RGB or RGBA value for all points.\n",
      "*c* argument looks like a single numeric RGB or RGBA sequence, which should be avoided as value-mapping will have precedence in case its length matches with *x* & *y*.  Please use the *color* keyword-argument or provide a 2-D array with a single row if you intend to specify the same RGB or RGBA value for all points.\n",
      "*c* argument looks like a single numeric RGB or RGBA sequence, which should be avoided as value-mapping will have precedence in case its length matches with *x* & *y*.  Please use the *color* keyword-argument or provide a 2-D array with a single row if you intend to specify the same RGB or RGBA value for all points.\n",
      "*c* argument looks like a single numeric RGB or RGBA sequence, which should be avoided as value-mapping will have precedence in case its length matches with *x* & *y*.  Please use the *color* keyword-argument or provide a 2-D array with a single row if you intend to specify the same RGB or RGBA value for all points.\n",
      "*c* argument looks like a single numeric RGB or RGBA sequence, which should be avoided as value-mapping will have precedence in case its length matches with *x* & *y*.  Please use the *color* keyword-argument or provide a 2-D array with a single row if you intend to specify the same RGB or RGBA value for all points.\n",
      "*c* argument looks like a single numeric RGB or RGBA sequence, which should be avoided as value-mapping will have precedence in case its length matches with *x* & *y*.  Please use the *color* keyword-argument or provide a 2-D array with a single row if you intend to specify the same RGB or RGBA value for all points.\n",
      "*c* argument looks like a single numeric RGB or RGBA sequence, which should be avoided as value-mapping will have precedence in case its length matches with *x* & *y*.  Please use the *color* keyword-argument or provide a 2-D array with a single row if you intend to specify the same RGB or RGBA value for all points.\n",
      "*c* argument looks like a single numeric RGB or RGBA sequence, which should be avoided as value-mapping will have precedence in case its length matches with *x* & *y*.  Please use the *color* keyword-argument or provide a 2-D array with a single row if you intend to specify the same RGB or RGBA value for all points.\n",
      "*c* argument looks like a single numeric RGB or RGBA sequence, which should be avoided as value-mapping will have precedence in case its length matches with *x* & *y*.  Please use the *color* keyword-argument or provide a 2-D array with a single row if you intend to specify the same RGB or RGBA value for all points.\n",
      "*c* argument looks like a single numeric RGB or RGBA sequence, which should be avoided as value-mapping will have precedence in case its length matches with *x* & *y*.  Please use the *color* keyword-argument or provide a 2-D array with a single row if you intend to specify the same RGB or RGBA value for all points.\n"
     ]
    }
   ],
   "source": [
    "%matplotlib qt\n",
    "\n",
    "from sklearn.decomposition import PCA\n",
    "pca = PCA(n_components=2)\n",
    "principalComponents =pca.fit_transform(train)\n",
    "var = pca.explained_variance_ratio_\n",
    "\n",
    "principalDf = pd.DataFrame(data = principalComponents\n",
    "             , columns = ['principal component 1', 'principal component 2'])\n",
    "\n",
    "principalDf[\"label\"]=train_labels\n",
    "\n",
    "fig = plt.figure(figsize = (8,8))\n",
    "ax = fig.add_subplot(1,1,1) \n",
    "ax.set_xlabel('Principal Component 1', fontsize = 15)\n",
    "ax.set_ylabel('Principal Component 2', fontsize = 15)\n",
    "ax.set_title('2 Component PCA', fontsize = 20)\n",
    "\n",
    "labels = list(set(train_labels))\n",
    "\n",
    "colors = matplotlib.cm.rainbow(np.linspace(0,1,len(labels)))\n",
    "\n",
    "for label, color in zip(labels,colors):\n",
    "    indicesToKeep = principalDf['label'] == label\n",
    "    ax.scatter(principalDf.loc[indicesToKeep, 'principal component 1']\n",
    "               , principalDf.loc[indicesToKeep, 'principal component 2']\n",
    "               , c = color\n",
    "               , s = 50)\n",
    "ax.legend(labels)\n",
    "ax.grid()\n",
    "plt.show()"
   ]
  },
  {
   "cell_type": "code",
   "execution_count": 101,
   "metadata": {},
   "outputs": [],
   "source": [
    "query=np.zeros((20,20))\n",
    "\n",
    "def kNN(k, X, x):\n",
    "    '''\n",
    "    kNN classification of x\n",
    "    -----------------------\n",
    "        Input: \n",
    "        k: number of nearest neighbors\n",
    "        X: training data           \n",
    "        y: class labels of training data\n",
    "        x: test instance\n",
    "\n",
    "        return the label to be associated with x\n",
    "\n",
    "        Hint: you may use the function 'norm' \n",
    "    '''\n",
    "    m,n = X.shape\n",
    "    \n",
    "    #liste des distances de x à tous les autres points du dataset\n",
    "    distances = norm(X-x,axis=1)\n",
    "    #liste des indices triés par distance à x\n",
    "    idx=distances.argsort()\n",
    "    \n",
    "    #on fait le compte des labels les plus présents\n",
    "    c=np.zeros(max(idx)+1)\n",
    "    for i in range(k):\n",
    "        c[labels.index(train_labels[idx[i]])] += 1\n",
    "        \n",
    "    #renvoie le résultat du vote majoritaire\n",
    "    label = np.argmax(c)\n",
    "    \n",
    "    return label"
   ]
  },
  {
   "cell_type": "code",
   "execution_count": 102,
   "metadata": {},
   "outputs": [
    {
     "data": {
      "text/plain": [
       "Text(0.5, 1.0, 'k = 4')"
      ]
     },
     "execution_count": 102,
     "metadata": {},
     "output_type": "execute_result"
    }
   ],
   "source": [
    "k=4\n",
    "query=np.zeros((20,20))\n",
    "for i in range(len(test)):\n",
    "    idx=kNN(k,train,test[i])\n",
    "    query[labels.index(test_labels[i]),idx]+=1\n",
    "ax = sns.heatmap(query, linewidth=0.5, xticklabels = labels, yticklabels = labels)\n",
    "plt.ylabel('label',size=15)\n",
    "plt.xlabel('predicted label',size=15)\n",
    "plt.title(\"k = \"+str(k),size=20)"
   ]
  }
 ],
 "metadata": {
  "kernelspec": {
   "display_name": "Python 3",
   "language": "python",
   "name": "python3"
  },
  "language_info": {
   "codemirror_mode": {
    "name": "ipython",
    "version": 3
   },
   "file_extension": ".py",
   "mimetype": "text/x-python",
   "name": "python",
   "nbconvert_exporter": "python",
   "pygments_lexer": "ipython3",
   "version": "3.7.9"
  }
 },
 "nbformat": 4,
 "nbformat_minor": 4
}
